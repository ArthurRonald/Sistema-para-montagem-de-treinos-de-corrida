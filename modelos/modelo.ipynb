from xgboost import XGBClassifier
from sklearn.preprocessing import LabelEncoder
import pandas as pd

df= pd.read_csv("corredores_ficticios.csv")


encoder= LabelEncoder()
encoder2=LabelEncoder()
encoder3=LabelEncoder()

df["objetivo_encoded"]=encoder.fit_transform(df["Objetivo do treino"])
df["lesao_encoded"]=encoder2.fit_transform(df["Histórico de lesão"])
df["nivel_encoded"]=encoder3.fit_transform(df["Nível"])

df.to_csv("datset_atualizado.csv", index=False)



from sklearn.ensemble import RandomForestClassifier
from sklearn.model_selection import train_test_split

df=pd.read_csv("datset_atualizado.csv")

x=df[[
    "Tempo (min)",
    "Distância (km)",
    "lesao_encoded",
    "Pace (min/km)" ,
    "Atividades/semana",
    "objetivo_encoded"
]]

y=df["nivel_encoded"]

x_train,x_test,y_train,y_test=train_test_split(x,y, test_size=0.2, random_state=13)

modelo=RandomForestClassifier(n_estimators=100, random_state=13)

modelo.fit(x_train,y_train)
acuracia=modelo.score(x_test,y_test)
